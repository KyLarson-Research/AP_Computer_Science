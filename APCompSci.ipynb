{
 "cells": [
  {
   "cell_type": "code",
   "execution_count": 1,
   "metadata": {},
   "outputs": [],
   "source": [
    "# FileName: AP_Computer science\n",
    "# Author: Kyle C Larson\n"
   ]
  },
  {
   "cell_type": "code",
   "execution_count": 4,
   "metadata": {},
   "outputs": [],
   "source": [
    "class Node:\n",
    "    def __init__(self, data):\n",
    "        self.contents = data\n",
    "        self.n = None\n",
    "        self.p = None\n",
    "    \n",
    "class DoublyLinkedList:    \n",
    "    def __init__(self):\n",
    "            self.start_node = None        \n",
    "    # -------------------------------\n",
    "    def insert_in_emptylist(self, data):\n",
    "        if self.start_node is None:\n",
    "            new_node = Node(data)\n",
    "            self.start_node = new_node\n",
    "        else:\n",
    "            print(\"list is not empty\")\n",
    "    # -------------------------------    \n",
    "    def insert_at_start(self, data):\n",
    "        if self.start_node is None:\n",
    "            new_node = Node(data)\n",
    "            self.start_node = new_node\n",
    "            print(\"insterted at start\")\n",
    "            return\n",
    "        new_node = Node(data)\n",
    "        new_node.n = self.start_node\n",
    "        self.start_node.p = new_node\n",
    "        self.start_node = new_node"
   ]
  },
  {
   "cell_type": "code",
   "execution_count": 9,
   "metadata": {},
   "outputs": [
    {
     "name": "stdout",
     "output_type": "stream",
     "text": [
      "insterted at start\n",
      "7\n",
      "5\n"
     ]
    }
   ],
   "source": [
    "# Making Sure that I have the functionality down\n",
    "primes = DoublyLinkedList()\n",
    "primes.insert_at_start(5)\n",
    "primes.insert_at_start(7)\n",
    "print(primes.start_node.contents)\n",
    "print(primes.start_node.n.contents)"
   ]
  },
  {
   "cell_type": "code",
   "execution_count": 20,
   "metadata": {},
   "outputs": [
    {
     "name": "stdout",
     "output_type": "stream",
     "text": [
      "5\n",
      "7\n"
     ]
    }
   ],
   "source": [
    "#The Beginnings of A Swap Function\n",
    "temp = primes.start_node\n",
    "primes.start_node.n.p = None\n",
    "primes.start_node = primes.start_node.n\n",
    "primes.start_node.n = temp\n",
    "temp.n = None\n",
    "print(primes.start_node.contents)\n",
    "print(primes.start_node.n.contents)"
   ]
  },
  {
   "cell_type": "code",
   "execution_count": 21,
   "metadata": {},
   "outputs": [],
   "source": [
    "def print_dll(doublylinkedlist):\n",
    "    temp = doublylinkedlist.start_node\n",
    "    print(temp.contents)\n",
    "    while(temp.n!=None):\n",
    "        temp = temp.n\n",
    "        print(temp.contents)\n"
   ]
  },
  {
   "cell_type": "code",
   "execution_count": 22,
   "metadata": {},
   "outputs": [
    {
     "name": "stdout",
     "output_type": "stream",
     "text": [
      "5\n",
      "7\n"
     ]
    }
   ],
   "source": [
    "print_dll(primes)"
   ]
  },
  {
   "cell_type": "code",
   "execution_count": 23,
   "metadata": {},
   "outputs": [
    {
     "name": "stdout",
     "output_type": "stream",
     "text": [
      "1\n",
      "2\n",
      "3\n",
      "5\n",
      "7\n"
     ]
    }
   ],
   "source": [
    "primes.insert_at_start(3)\n",
    "primes.insert_at_start(2)\n",
    "primes.insert_at_start(1)\n",
    "print_dll(primes)"
   ]
  },
  {
   "cell_type": "code",
   "execution_count": null,
   "metadata": {},
   "outputs": [],
   "source": []
  }
 ],
 "metadata": {
  "kernelspec": {
   "display_name": "Python 3",
   "language": "python",
   "name": "python3"
  },
  "language_info": {
   "codemirror_mode": {
    "name": "ipython",
    "version": 3
   },
   "file_extension": ".py",
   "mimetype": "text/x-python",
   "name": "python",
   "nbconvert_exporter": "python",
   "pygments_lexer": "ipython3",
   "version": "3.7.6"
  }
 },
 "nbformat": 4,
 "nbformat_minor": 4
}
